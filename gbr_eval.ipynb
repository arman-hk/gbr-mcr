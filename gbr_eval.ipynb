{
  "cells": [
    {
      "cell_type": "markdown",
      "metadata": {
        "id": "ZbjROFlRpEfx"
      },
      "source": [
        "# GBR Evaluation"
      ]
    },
    {
      "cell_type": "code",
      "execution_count": null,
      "metadata": {
        "id": "QmxAqNR6pAkA",
        "colab": {
          "base_uri": "https://localhost:8080/"
        },
        "outputId": "7694c985-6626-4d56-c93b-71c8aa855825"
      },
      "outputs": [
        {
          "output_type": "stream",
          "name": "stdout",
          "text": [
            "Drive already mounted at /content/drive; to attempt to forcibly remount, call drive.mount(\"/content/drive\", force_remount=True).\n"
          ]
        }
      ],
      "source": [
        "from google.colab import drive\n",
        "drive.mount('/content/drive')\n",
        "file = r'/content/drive/MyDrive/Colab/gbr-mcr/dataset.csv'"
      ]
    },
    {
      "cell_type": "code",
      "execution_count": null,
      "metadata": {
        "id": "2jUD3J1IqgQA"
      },
      "outputs": [],
      "source": [
        "import pandas as pd\n",
        "import numpy as np\n",
        "\n",
        "df = pd.read_csv(file)\n",
        "\n",
        "# dataset\n",
        "dataset = df.values\n",
        "X = dataset[:, 6] # mt column\n",
        "Y = dataset[:, 5] # mcr column"
      ]
    },
    {
      "cell_type": "code",
      "execution_count": null,
      "metadata": {
        "id": "GNGC-2xpqieg",
        "colab": {
          "base_uri": "https://localhost:8080/"
        },
        "outputId": "9c14c5d0-7771-4914-c6b2-be3799bea784"
      },
      "outputs": [
        {
          "output_type": "stream",
          "name": "stdout",
          "text": [
            "Train:  (115196, 1)\n",
            "Val:  (28800, 1)\n",
            "Test:  (36000, 1)\n"
          ]
        }
      ],
      "source": [
        "from sklearn.model_selection import train_test_split\n",
        "X = X.reshape(-1, 1)\n",
        "\n",
        "# split\n",
        "X_train, X_test, Y_train, Y_test = train_test_split(X, Y, test_size=0.2, random_state=42)\n",
        "\n",
        "X_train, X_val, Y_train, Y_val = train_test_split(X_train, Y_train, test_size=0.2, random_state=42)\n",
        "\n",
        "# size\n",
        "print(\"Train: \", X_train.shape)\n",
        "print(\"Val: \", X_val.shape)\n",
        "print(\"Test: \", X_test.shape)"
      ]
    },
    {
      "cell_type": "code",
      "execution_count": null,
      "metadata": {
        "id": "MKvW5eKrqlYT",
        "colab": {
          "base_uri": "https://localhost:8080/"
        },
        "outputId": "8768f8b5-e980-49f8-88c6-9568ad76226c"
      },
      "outputs": [
        {
          "output_type": "execute_result",
          "data": {
            "text/plain": [
              "0.6205004562040215"
            ]
          },
          "metadata": {},
          "execution_count": 16
        }
      ],
      "source": [
        "from sklearn.ensemble import GradientBoostingRegressor\n",
        "\n",
        "# model\n",
        "gbr = GradientBoostingRegressor(subsample=0.8,\n",
        "                                learning_rate=0.4,\n",
        "                                n_estimators=15,\n",
        "                                max_depth=8,\n",
        "                                min_samples_split=200,\n",
        "                                min_samples_leaf=40,\n",
        "                                loss=\"absolute_error\")\n",
        "\n",
        "gbr.fit(X_train, Y_train)\n",
        "gbr.score(X_val, Y_val)"
      ]
    },
    {
      "cell_type": "code",
      "execution_count": null,
      "metadata": {
        "id": "PeVk4DSR5kip",
        "colab": {
          "base_uri": "https://localhost:8080/"
        },
        "outputId": "c34b8a71-da53-44c4-900f-35de2dd0f633"
      },
      "outputs": [
        {
          "output_type": "stream",
          "name": "stdout",
          "text": [
            "MAPE :  5.310046950193459\n",
            "MAE :  9.685302763952205\n",
            "MSE :  9167.219441970821\n"
          ]
        }
      ],
      "source": [
        "Y_predict = gbr.predict(X_val)\n",
        "\n",
        "from sklearn.metrics import mean_absolute_percentage_error, mean_absolute_error, mean_squared_error\n",
        "mape = mean_absolute_percentage_error(Y_val, Y_predict)\n",
        "mae = mean_absolute_error(Y_val, Y_predict)\n",
        "mse = mean_squared_error(Y_val, Y_predict)\n",
        "print(\"MAPE : \", mape)\n",
        "print(\"MAE : \", mae)\n",
        "print(\"MSE : \", mse)"
      ]
    },
    {
      "cell_type": "code",
      "execution_count": null,
      "metadata": {
        "colab": {
          "base_uri": "https://localhost:8080/",
          "height": 449
        },
        "id": "r2oqD3VqGp49",
        "outputId": "aaa60870-a8ba-4f76-d846-cf7bfa31fea5"
      },
      "outputs": [
        {
          "output_type": "display_data",
          "data": {
            "text/plain": [
              "<Figure size 640x480 with 1 Axes>"
            ],
            "image/png": "[encoded data removed]"
          },
          "metadata": {}
        }
      ],
      "source": [
        "import matplotlib.pyplot as plt\n",
        "from sklearn.metrics import mean_absolute_error\n",
        "\n",
        "mae = []\n",
        "for Y_predict in gbr.staged_predict(X_val):\n",
        "    mae.append(mean_absolute_error(Y_val, Y_predict))\n",
        "\n",
        "plt.plot(np.arange(1, gbr.n_estimators + 1), mae)\n",
        "plt.xlabel(\"Iter\")\n",
        "plt.ylabel(\"MAE\")\n",
        "plt.show()"
      ]
    }
  ],
  "metadata": {
    "accelerator": "GPU",
    "colab": {
      "provenance": []
    },
    "gpuClass": "standard",
    "kernelspec": {
      "display_name": "Python 3",
      "name": "python3"
    },
    "language_info": {
      "name": "python"
    }
  },
  "nbformat": 4,
  "nbformat_minor": 0
}